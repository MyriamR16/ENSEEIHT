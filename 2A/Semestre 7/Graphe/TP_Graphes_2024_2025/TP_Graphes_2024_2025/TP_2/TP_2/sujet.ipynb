{
 "cells": [
  {
   "cell_type": "markdown",
   "id": "8d1e324c-8965-4391-a549-bd6735709518",
   "metadata": {},
   "source": [
    "<div style=\"background-color: #e6e6fa; padding: 20px; border-radius: 10px; border: 1px solid #9370db; font-family: 'Arial', sans-serif; line-height: 1.6;\">\n",
    "    \n",
    "<div style=\"text-align: center;\">\n",
    "    <h1><span style=\"color: #4b0082;\">TP2- Plus courts chemins, Arbres Couvrants, Problèmes de transport.</span></h1>\n",
    "    <h2><span style=\"color: #483d8b;\">Objectifs: Utiliser les algorithmes présentés en cours (recherche de plus courts chemins, arbres couvrants minimaux,et calcul de flots maximaux).</span></h2>\n",
    "</div>\n",
    "<p style=\"text-align: justify; font-size: 16px; color: #6a5acd;\">\n",
    "Le TP possède 5 exercices. Il y a plusieurs type de cellules dans ce document :\n",
    "    <br>- Des cellules de questions (en bleu)\n",
    "    <br>- Des cellules de rappel de cours (en vert)\n",
    "    <br>- Des cellules où l'on vous demande juste de lancer le code et de visualiser (en rouge)\n",
    "<br>Pour les codes, vous pouvez regarder au début de la cellule, \"%A faire\" indique que vous devez compléter le code \"%Visualisation\" qu'il faut lancer le code pour obtenir une représentation graphique et \"%Test\" est là pour indiquer que votre fonction sera testée.\n",
    "<br> Dans certaines questions, il vous est demandé de créer des fonctions matlab. Dans les autres questions du sujet ça n'est pas vos fonctions qui sont utilisées (cela vous permet de tout de même continuer le sujet si jamais vous n'arrivez pas à faire les fonctions).\n",
    "</p>\n",
    "\n",
    "<p style=\"text-align: justify; font-size: 16px; color: #6a5acd;\">\n",
    "Nous utilisons la librairie de fonctions Matlab BGL (Boost Graph Library) contenant quelques algorithmes définis sur des graphes. Les fonctions disponibles de la librairie sont visibles dans help contents.\n",
    "</p>\n",
    "\n",
    "<p style=\"text-align: justify; font-size: 16px; color: #6a5acd;\">\n",
    "La matrice de distances doit être stockée sous forme creuse (sparse). La fonction sparse(D) permet de réaliser cette opération.\n",
    "</p>\n",
    "\n",
    "</div>"
   ]
  },
  {
   "cell_type": "code",
   "execution_count": null,
   "id": "d949d2e7-a4db-4120-833d-151c0bf84f1e",
   "metadata": {},
   "outputs": [
    {
     "data": {
      "text/html": [
       "<iframe src=/matlab width=700 height=600\"></iframe>"
      ]
     },
     "metadata": {},
     "output_type": "display_data"
    }
   ],
   "source": [
    "addpath('matlab_bgl');      %load graph libraries\n",
    "addpath('matlab_tpgraphe'); %load tp ressources\n",
    "\n",
    "load TPgraphe.mat;          %load data"
   ]
  },
  {
   "cell_type": "markdown",
   "id": "77acae90-9024-4565-99f9-fe85a612a81b",
   "metadata": {},
   "source": [
    "<div style=\"background-color: #f0f8ff; padding: 20px; border-radius: 10px; border: 1px solid #87cefa; font-family: 'Arial', sans-serif; line-height: 1.6;\">\n",
    "    \n",
    "<div style=\"text-align: center;\">\n",
    "    <h1><span style=\"color: #30588e;\">Exercice 1</span></h1>\n",
    "</div>\n",
    "<p style=\"text-align: justify; font-size: 16px; color: #4682b4;\">\n",
    "On cherche à trouver l’arbre des plus courts chemins.\n",
    "</p>\n",
    "</div>"
   ]
  },
  {
   "cell_type": "markdown",
   "id": "674542b9-e52f-4291-8aad-ffb19b017c7a",
   "metadata": {},
   "source": [
    "<div style=\"background-color: #c8e6c9; padding: 20px; border-radius: 10px; border: 1px solid #388e3c; font-family: 'Arial', sans-serif; line-height: 1.6;\">\n",
    "\n",
    "<p style=\"text-align: justify; font-size: 16px; color: #2e7d32;\">\n",
    "    <br><b>Rappel </b>\n",
    "    <details>\n",
    "        <summary></summary>\n",
    "        <b>Arbre des plus courts chemins</b> : Arbre qui se construit à partir d'un graphe et d'un sommet source donné. Cet arbre contient tous les sommets atteignables depuis la source, et pour chaque sommet, l'arbre fournit le chemin le plus court de la source à ce sommet.\n",
    "    </details>\n",
    "</p>\n",
    "\n",
    "</div>\n"
   ]
  },
  {
   "cell_type": "markdown",
   "id": "9f47fb63-92fa-4d09-bc4f-ddb07f90c654",
   "metadata": {},
   "source": [
    "<div style=\"background-color: #f0f8ff; padding: 20px; border-radius: 10px; border: 1px solid #87cefa; font-family: 'Arial', sans-serif; line-height: 1.6;\">\n",
    "<p style=\"text-align: justify; font-size: 16px; color: #4682b4;\">\n",
    "Choisir une source <code style=\"color: #ff4500;\">src</code> et utiliser la fonction <code style=\"color: #ff4500;\">shortest_paths(G, src)</code> pour obtenir les plus courts chemins partant du sommet choisi et afficher l’arbre obtenu à l’aide de <code style=\"color: #ff4500;\">viz_spt</code>.\n",
    "</p>\n",
    "</div>"
   ]
  },
  {
   "cell_type": "code",
   "execution_count": null,
   "id": "1d47ecae-27ac-4fe8-983b-c8c1e33f5dbb",
   "metadata": {},
   "outputs": [],
   "source": [
    "%Visualisation\n",
    "G=sparse(D);\n",
    "% Choix du sommet source\n",
    "src=14;\n",
    "% Utilisation de l'algorithme STP\n",
    "[wp spt_]=shortest_paths(G,src); %wp=weight path, spt_=shortsetpathtree structure\n",
    "viz_spt(G,spt_,pos,cities);\n"
   ]
  },
  {
   "cell_type": "markdown",
   "id": "79c47b89-a467-4272-b510-c4d8e3996580",
   "metadata": {},
   "source": [
    "<div style=\"background-color: #f0f8ff; padding: 20px; border-radius: 10px; border: 1px solid #87cefa; font-family: 'Arial', sans-serif; line-height: 1.6;\">\n",
    "<p style=\"text-align: justify; font-size: 16px; color: #4682b4;\">\n",
    "<b>Q2)</b> Commenter la longueur de l’arbre observé.\n",
    "</p>\n",
    "</div>"
   ]
  },
  {
   "cell_type": "markdown",
   "id": "5c45e760-823b-4593-b37b-1a2253d24441",
   "metadata": {},
   "source": []
  },
  {
   "cell_type": "markdown",
   "id": "1436eb73-4bf9-4478-b4f5-d7d3dc3797cb",
   "metadata": {},
   "source": [
    "<div style=\"background-color: #f0f8ff; padding: 20px; border-radius: 10px; border: 1px solid #87cefa; font-family: 'Arial', sans-serif; line-height: 1.6;\">\n",
    "\n",
    "<div style=\"text-align: center;\">\n",
    "    <h1><span style=\"color: #30588e;\">Exercice 2</span></h1>\n",
    "</div>\n",
    "\n",
    "<p style=\"text-align: justify; font-size: 16px; color: #4682b4;\">\n",
    "On s’intéresse maintenant à l’arbre couvrant de poids minimal.\n",
    "</p>\n",
    "\n",
    "</div>"
   ]
  },
  {
   "cell_type": "markdown",
   "id": "b00d6b7d-461a-4c53-baa2-0b57694f156b",
   "metadata": {},
   "source": [
    "<div style=\"background-color: #c8e6c9; padding: 20px; border-radius: 10px; border: 1px solid #388e3c; font-family: 'Arial', sans-serif; line-height: 1.6;\">\n",
    "\n",
    "<p style=\"text-align: justify; font-size: 16px; color: #2e7d32;\">\n",
    "    <br><b>Rappel </b>\n",
    "    <details>\n",
    "        <summary></summary>\n",
    "        <b>Arbre couvrant de poids minimal</b> : Arbre incluant tous les sommets du graphe original et dont la somme totale des poids des arêtes est la plus faible possible\n",
    "    </details>\n",
    "</p>\n",
    "\n",
    "</div>\n"
   ]
  },
  {
   "cell_type": "markdown",
   "id": "d1298e4d-8b73-40ed-a07c-2b12a582ca5e",
   "metadata": {},
   "source": [
    "<div style=\"background-color: #f0f8ff; padding: 20px; border-radius: 10px; border: 1px solid #87cefa; font-family: 'Arial', sans-serif; line-height: 1.6;\">\n",
    "\n",
    "<p style=\"text-align: justify; font-size: 16px; color: #4682b4;\">\n",
    "On utilise les fonctions <code style=\"color: #ff4500;\">Prim_mst</code> et <code style=\"color: #ff4500;\">Kruskal_mst</code> pour calculer les arbres couvrants minimaux.\n",
    "</p>\n",
    "\n",
    "</div>"
   ]
  },
  {
   "cell_type": "markdown",
   "id": "a8467563-1994-45fc-a735-806a41a4434d",
   "metadata": {},
   "source": [
    "<div style=\"background-color: #c8e6c9; padding: 20px; border-radius: 10px; border: 1px solid #388e3c; font-family: 'Arial', sans-serif; line-height: 1.6;\">\n",
    "\n",
    "<p style=\"text-align: justify; font-size: 16px; color: #2e7d32;\">\n",
    "    <br><b>Rappel </b>\n",
    "    <details>\n",
    "        <summary></summary>\n",
    "        <b>Algorithme de Prim</b> :         \n",
    "        <p>L'algorithme de Prim construit l'arbre couvrant de poids minimal en commençant par un sommet spécifique et en l'étendant jusqu'à inclure tous les sommets.</p>\n",
    "        <ol>\n",
    "            <li><strong>Initialisation</strong> : Sélectionnez un sommet initial et marquez-le comme inclus dans l'arbre.</li>\n",
    "            <li><strong>Sélection des Arêtes</strong> : Choisissez l'arête la moins coûteuse qui relie un sommet de l'arbre à un sommet hors de l'arbre.</li>\n",
    "            <li><strong>Ajout à l'Arbre</strong> : Ajoutez cette arête et marquez le nouveau sommet comme inclus.</li>\n",
    "            <li><strong>Répétition</strong> : Répétez jusqu'à ce que tous les sommets soient inclus dans l'arbre.</li>\n",
    "        </ol>\n",
    "        <br>\n",
    "        <b>Algorithme de Krustal</b> :        \n",
    "        <p>L'algorithme de Kruskal construit l'arbre couvrant de poids minimal en triant et en sélectionnant les arêtes en fonction de leur poids.</p>\n",
    "        <ol>\n",
    "            <li><strong>Trier les Arêtes</strong> : Triez toutes les arêtes du graphe par ordre croissant de leur poids.</li>\n",
    "            <li><strong>Sélection des Arêtes</strong> : Parcourez les arêtes triées, en ajoutant celles qui ne forment pas de cycle.</li>\n",
    "            <li><strong>Vérification des Cycles</strong> : Utilisez une structure de données union-find pour vérifier les cycles.</li>\n",
    "            <li><strong>Construction de l'Arbre</strong> : Continuez jusqu'à obtenir \\(V-1\\) arêtes.</li>\n",
    "        </ol>\n",
    "    </details>\n",
    "</p>\n",
    "\n",
    "</div>\n"
   ]
  },
  {
   "cell_type": "markdown",
   "id": "43132c15-3fc9-4cb8-a93f-a0316e749b48",
   "metadata": {},
   "source": [
    "<div style=\"background-color: #ffe0e0; padding: 20px; border-radius: 10px; border: 1px solid #fa8787; font-family: 'Arial', sans-serif; line-height: 1.6;\">\n",
    "\n",
    "<p style=\"text-align: justify; font-size: 16px; color: #b44242;\">\n",
    "Visualiser les arbres de poids minimaux obtenus avec l'algorithme de Prim et l'algorithme de Krustal (avec 13 comme sommet source).\n",
    "</p>\n",
    "\n",
    "</div>"
   ]
  },
  {
   "cell_type": "code",
   "execution_count": null,
   "id": "79984ce4-d82c-490f-bc98-bc8e94f52b72",
   "metadata": {},
   "outputs": [],
   "source": [
    "%Visualisation\n",
    "%Calcul de l'arbre de poids minimal avec l'algorithme de Prim.\n",
    "sommet = 13;\n",
    "mst_prim_1=prim_mst(G,struct('root', sommet));\n",
    "\n",
    "%Calcul de l'arbre de poids minimal avec l'algorithme de Krustal.\n",
    "mst_krustal_1=kruskal_mst(G);\n",
    "viz_mst(G,mst_prim_1,pos,cities);\n",
    "viz_mst(G,mst_krustal_1,pos,cities);"
   ]
  },
  {
   "cell_type": "markdown",
   "id": "abd4c550-f5a8-4310-851e-718ea4c94162",
   "metadata": {},
   "source": [
    "<div style=\"background-color: #f0f8ff; padding: 20px; border-radius: 10px; border: 1px solid #87cefa; font-family: 'Arial', sans-serif; line-height: 1.6;\">\n",
    "\n",
    "<p style=\"text-align: justify; font-size: 16px; color: #4682b4;\">\n",
    "<b>Q1)</b>Comparer les arbres trouvés.\n",
    "</p>\n",
    "\n",
    "</div>"
   ]
  },
  {
   "cell_type": "markdown",
   "id": "52e49a74-0a63-45e4-9ca1-2f18f64549cf",
   "metadata": {},
   "source": []
  },
  {
   "cell_type": "markdown",
   "id": "b59ca30e-4b52-45a3-8426-95243f26c4ad",
   "metadata": {},
   "source": [
    "<div style=\"background-color: #f0f8ff; padding: 20px; border-radius: 10px; border: 1px solid #87cefa; font-family: 'Arial', sans-serif; line-height: 1.6;\">\n",
    "\n",
    "<p style=\"text-align: justify; font-size: 16px; color: #4682b4;\">\n",
    "<b>Q2)</b> Modifier les valeurs de quelques arêtes pour trouver un arbre obtenu par l’algorithme de Prim différent de celui obtenu avec Kruskal. On pourra ajouter le paramètre <code style=\"color: #ff4500;\">struct(‘root’, sommet)</code> pour choisir un sommet initial pour l’algorithme de Prim.\n",
    "</p>\n",
    "\n",
    "</div>"
   ]
  },
  {
   "cell_type": "code",
   "execution_count": null,
   "id": "5b6ce281-ea69-405b-876c-a251850db974",
   "metadata": {},
   "outputs": [],
   "source": [
    "%A faire\n",
    "%Calcul de l'arbre de poids minimal avec l'algorithme de Prim.\n",
    "G_bis = G;\n",
    "\n",
    "sommet = XXX;\n",
    "i =XXX;\n",
    "j =XXX;\n",
    "G_bis(i,j) = XXX; %Modifier une arrête est suffisant si elle est bien choisie\n",
    "G_bis(j,i) = G_bis(i,j); %La matrice doit rester symétrique\n",
    "mst_prim_1=prim_mst(G_bis,struct('root', sommet));\n",
    "\n",
    "%Calcul de l'arbre de poids minimal avec l'algorithme Krustal.\n",
    "mst_krustal_1=kruskal_mst(G_bis);\n",
    "\n",
    "%Visualization\n",
    "%viz_mst(G_bis,mst_prim_1,pos,cities);\n",
    "%viz_mst(G_bis,mst_krustal_1,pos,cities);"
   ]
  },
  {
   "cell_type": "markdown",
   "id": "612e0fcc-2698-4ad6-b1f2-d08d453f1fc7",
   "metadata": {},
   "source": [
    "<div style=\"background-color: #f0f8ff; padding: 20px; border-radius: 10px; border: 1px solid #87cefa; font-family: 'Arial', sans-serif; line-height: 1.6;\">\n",
    "\n",
    "<div style=\"text-align: center;\">\n",
    "    <h1><span style=\"color: #30588e;\">Exercice 3</span></h1>\n",
    "</div>\n",
    "\n",
    "<p style=\"text-align: justify; font-size: 16px; color: #4682b4;\">\n",
    "Un opérateur de réseau privé souhaite interconnecter les capitales européennes pour acheminer un trafic d’entreprise. La capacité des liens est inversement proportionnelle aux distances selon la formule suivante : <i>Capacité = [10000/Distance]</i>. Les liens avec une capacité inférieure à 11 ne sont pas exploitables.\n",
    "</p>\n",
    "\n",
    "<p style=\"text-align: justify; font-size: 16px; color: #4682b4;\">\n",
    "On ajoute une source et un puits pour modéliser ce problème sous forme de problème de transport. Le trafic généré par la source et qui devrait être reçu par le puits est de 10.\n",
    "</p>\n",
    "\n",
    "</div>"
   ]
  },
  {
   "cell_type": "markdown",
   "id": "355e8b47-f403-4630-82e6-c896d8592977",
   "metadata": {},
   "source": [
    "<div style=\"background-color: #f0f8ff; padding: 20px; border-radius: 10px; border: 1px solid #87cefa; font-family: 'Arial', sans-serif; line-height: 1.6;\">\n",
    "\n",
    "<p style=\"text-align: justify; font-size: 16px; color: #4682b4;\">\n",
    "<b>Q1)</b> Compléter le code suivant pour mettre à jour la matrice de capacités <i>bw</i>.\n",
    "</p>\n",
    "\n",
    "</div>"
   ]
  },
  {
   "cell_type": "code",
   "execution_count": null,
   "id": "a6c5ae62-7b62-4b45-9495-e582275ff750",
   "metadata": {},
   "outputs": [],
   "source": [
    "% À faire\n",
    "\n",
    "% 0) Initialisation des noeuds :\n",
    "% Choisissez des valeurs arbitraires pour les sources, les destinations et les capacités virtuelles des noeuds concernés\n",
    "\n",
    "srcs = [2, 21]; % Identifiants des noeuds sources pour l'Europe\n",
    "dsts = [10, 16]; % Identifiants des noeuds de destination pour l'Europe\n",
    "virtual_capacity = 100; % Capacité assignée pour les connexions en Europe\n",
    "\n",
    "% 1) Création du graphe de bande passante :\n",
    "% À partir du graphe des distances, construisez un graphe de bande passante\n",
    "\n",
    "n = size(D, 1); % Nombre de noeuds dans le graphe initial\n",
    "% Ajout d'une source virtuelle et d'une destination virtuelle :\n",
    "% Cela implique la création d'un graphe avec deux noeuds supplémentaires\n",
    "bw = zeros(n + 2, n + 2); % Initialisation du graphe de bande passante avec des zéros\n",
    "\n",
    "% Configuration des connexions pour la source virtuelle :\n",
    "% Le noeud n+1 est utilisé comme source virtuelle et est connecté aux villes sources\n",
    "bw(n + 1, srcs) = virtual_capacity; \n",
    "bw(srcs, n + 1) = virtual_capacity;\n",
    "\n",
    "% Configuration des connexions pour la destination virtuelle :\n",
    "% Le noeud n+2 est utilisé comme destination virtuelle et est connecté aux villes destinations\n",
    "bw(n + 2, dsts) = virtual_capacity; \n",
    "bw(dsts, n + 2) = virtual_capacity;\n",
    "\n",
    "% La bande passante est définie comme étant inversement proportionnelle à la distance :\n",
    "bw(1:n, 1:n) = XXX;\n",
    "% Les valeurs infinies sur la diagonale ne sont pas valides, remplacez-les par 0\n",
    "bw(bw == Inf) = 0;\n",
    "\n",
    "% Filtrage des liens :\n",
    "% Les liens avec une bande passante insuffisante ne sont pas pertinents pour les opérateurs\n",
    "\n",
    "%XXX Filtrage des liens non exploitables à faire\n"
   ]
  },
  {
   "cell_type": "markdown",
   "id": "409852cd-394f-4cf5-8364-361ac7236473",
   "metadata": {},
   "source": [
    "<div style=\"background-color: #ffe0e0; padding: 20px; border-radius: 10px; border: 1px solid #fa8787; font-family: 'Arial', sans-serif; line-height: 1.6;\">\n",
    "\n",
    "<p style=\"text-align: justify; font-size: 16px; color: #b44242;\">\n",
    "La fonction <code style=\"color: #ff4500;\">vis_cut</code> affiche la coupure minimale. Les sommets reliés à la source sont marqués avec le symbole ‘o’ et ceux reliés au puits sont marqués avec ‘+’. Afficher la coupure maximale\n",
    "</p>\n",
    "\n",
    "</div>"
   ]
  },
  {
   "cell_type": "code",
   "execution_count": null,
   "id": "4c90fbf8-71d4-406c-9e43-4d95e923ab61",
   "metadata": {},
   "outputs": [],
   "source": [
    "% Visualisation\n",
    "% 2) Calcul du débit maximal entre les noeuds source et destination virtuels :\n",
    "% Convertissez le graphe de bande passante en une matrice creuse pour optimiser le traitement\n",
    "Gbw = sparse(bw);\n",
    "% Utilisez la fonction max_flow pour calculer le flux maximal, le cut-set, et les matrices résiduelles\n",
    "[max_val, cut_, R, F] = max_flow(Gbw, n + 1, n + 2);\n",
    "\n",
    "viz_cut(Gbw, cut_, pos, cities, srcs, dsts);\n"
   ]
  },
  {
   "cell_type": "markdown",
   "id": "e41db8b8-c579-4e11-b6f7-1047f0844399",
   "metadata": {},
   "source": [
    "<div style=\"background-color: #f0f8ff; padding: 20px; border-radius: 10px; border: 1px solid #87cefa; font-family: 'Arial', sans-serif; line-height: 1.6;\">\n",
    "\n",
    "<p style=\"text-align: justify; font-size: 16px; color: #4682b4;\">\n",
    "<b>Q2)</b> Commenter le résultat affiché.\n",
    "</p>\n",
    "\n",
    "</div>"
   ]
  },
  {
   "cell_type": "markdown",
   "id": "7cc0e0bd-58df-471e-a1d5-17281e602c53",
   "metadata": {},
   "source": []
  },
  {
   "cell_type": "markdown",
   "id": "d91334e9-b4e6-41f0-85ec-ab5dfe3c1574",
   "metadata": {},
   "source": [
    "<div style=\"background-color: #f0f8ff; padding: 20px; border-radius: 10px; border: 1px solid #87cefa; font-family: 'Arial', sans-serif; line-height: 1.6;\">\n",
    "\n",
    "<p style=\"text-align: justify; font-size: 16px; color: #4682b4;\">\n",
    "<b>Q3)</b> L’opérateur souhaite monter en charge avec un trafic généré de l’ordre de 100 pour chaque site. Quelle est la valeur du flot maximal obtenu pour les capacités considérées. Commenter les résultats affichés.\n",
    "</p>\n",
    "\n",
    "</div>"
   ]
  },
  {
   "cell_type": "code",
   "execution_count": null,
   "id": "ffdd9f26-1df6-405f-b716-515d6b085300",
   "metadata": {},
   "outputs": [],
   "source": [
    "%Visualisation"
   ]
  },
  {
   "cell_type": "markdown",
   "id": "de714f25-6b83-480a-855c-eb861ebf71bc",
   "metadata": {},
   "source": []
  },
  {
   "cell_type": "markdown",
   "id": "1f0f3810-1e59-451b-961f-61f2b831fa10",
   "metadata": {},
   "source": [
    "<div style=\"background-color: #f0f8ff; padding: 20px; border-radius: 10px; border: 1px solid #87cefa; font-family: 'Arial', sans-serif; line-height: 1.6;\">\n",
    "\n",
    "<p style=\"text-align: justify; font-size: 16px; color: #4682b4;\">\n",
    "<b>Q4)</b> Quelle propriété du graphe valuée considérée fait que la coupure minimale contient le plus souvent des liens incidents aux sites source ou puits.\n",
    "</p>\n",
    "\n",
    "</div>"
   ]
  },
  {
   "cell_type": "markdown",
   "id": "859ee488-66c5-40cb-8b19-51a41ec93f5f",
   "metadata": {},
   "source": []
  },
  {
   "cell_type": "markdown",
   "id": "e07a44c8-c1c4-467d-ad6d-78923ff00042",
   "metadata": {},
   "source": [
    "<div style=\"background-color: #f0f8ff; padding: 20px; border-radius: 10px; border: 1px solid #87cefa; font-family: 'Arial', sans-serif; line-height: 1.6;\">\n",
    "\n",
    "<p style=\"text-align: justify; font-size: 16px; color: #4682b4;\">\n",
    "<b>Q5)</b> Trouver deux sites (site source et site puits) pour lesquels la coupure ne passe pas par les arêtes incidentes à ces sites.\n",
    "</p>\n",
    "\n",
    "</div>"
   ]
  },
  {
   "cell_type": "code",
   "execution_count": null,
   "id": "cd6c3e4c-1cc2-4600-90e5-34c56abb004c",
   "metadata": {},
   "outputs": [],
   "source": [
    "%A faire"
   ]
  },
  {
   "cell_type": "markdown",
   "id": "ee4b2aa9-100d-43ed-97ad-1cef5ed72178",
   "metadata": {},
   "source": []
  },
  {
   "cell_type": "markdown",
   "id": "f77cf7bb-754f-4235-ace9-7af94555b4bd",
   "metadata": {},
   "source": [
    "<div style=\"background-color: #f0f8ff; padding: 20px; border-radius: 10px; border: 1px solid #87cefa; font-family: 'Arial', sans-serif; line-height: 1.6;\">\n",
    "\n",
    "<div style=\"text-align: center;\">\n",
    "    <h1><span style=\"color: #30588e;\">Exercice 4</span></h1>\n",
    "</div>\n",
    "\n",
    "<p style=\"text-align: justify; font-size: 16px; color: #4682b4;\">\n",
    "Dans cet exercice, on reprend les questions Q1, Q2 et Q3 de l’exercice 3 avec des villes allemandes. La capacité exploitable dans ce cas est de 120. Dans ce cas d’étude, le trafic généré par chacun des deux sites 2 et 14 est de 800. Ce trafic est reçu par les sites 11 et 21. On utilisera la fonction <code style=\"color: #ff4500;\">dataGermany</code> pour remplacer les données européennes par les données allemandes.\n",
    "</div>\n",
    "\n"
   ]
  },
  {
   "cell_type": "markdown",
   "id": "24129099-4566-47e5-9486-e9bd7500de81",
   "metadata": {},
   "source": [
    "<div style=\"background-color: #f0f8ff; padding: 20px; border-radius: 10px; border: 1px solid #87cefa; font-family: 'Arial', sans-serif; line-height: 1.6;\">\n",
    "\n",
    "<p style=\"text-align: justify; font-size: 16px; color: #4682b4;\">\n",
    "<b>Q1)</b> Compléter le code suivant pour mettre à jour la matrice de capacités <i>bw</i>.\n",
    "</p>\n",
    "\n",
    "</div>"
   ]
  },
  {
   "cell_type": "code",
   "execution_count": null,
   "id": "4c676369-d68a-4611-bc8e-dd079b026073",
   "metadata": {},
   "outputs": [],
   "source": [
    "% À faire\n",
    "\n",
    "% 0) Initialisation des noeuds :\n",
    "% Choisissez des valeurs arbitraires pour les sources, les destinations et les capacités virtuelles des noeuds concernés\n",
    "\n",
    "srcs = [2, 21]; % Identifiants des noeuds sources pour l'Europe\n",
    "dsts = [10, 16]; % Identifiants des noeuds de destination pour l'Europe\n",
    "virtual_capacity = 100; % Capacité assignée pour les connexions en Europe\n",
    "\n",
    "% 1) Création du graphe de bande passante :\n",
    "% À partir du graphe des distances, construisez un graphe de bande passante\n",
    "\n",
    "n = size(D, 1); % Nombre de noeuds dans le graphe initial\n",
    "% Ajout d'une source virtuelle et d'une destination virtuelle :\n",
    "% Cela implique la création d'un graphe avec deux noeuds supplémentaires\n",
    "bw = zeros(n + 2, n + 2); % Initialisation du graphe de bande passante avec des zéros\n",
    "\n",
    "% Configuration des connexions pour la source virtuelle :\n",
    "% Le noeud n+1 est utilisé comme source virtuelle et est connecté aux villes sources\n",
    "bw(n + 1, srcs) = virtual_capacity; \n",
    "bw(srcs, n + 1) = virtual_capacity;\n",
    "\n",
    "% Configuration des connexions pour la destination virtuelle :\n",
    "% Le noeud n+2 est utilisé comme destination virtuelle et est connecté aux villes destinations\n",
    "bw(n + 2, dsts) = virtual_capacity; \n",
    "bw(dsts, n + 2) = virtual_capacity;\n",
    "\n",
    "% La bande passante est définie comme étant inversement proportionnelle à la distance :\n",
    "bw(1:n, 1:n) = XXX;\n",
    "% Les valeurs infinies sur la diagonale ne sont pas valides, remplacez-les par 0\n",
    "bw(bw == Inf) = 0;\n",
    "\n",
    "% Filtrage des liens :\n",
    "% Les liens avec une bande passante insuffisante ne sont pas pertinents pour les opérateurs\n",
    "\n",
    "%XXX Filtrage des liens non exploitables à faire"
   ]
  },
  {
   "cell_type": "markdown",
   "id": "eeaa9a97-7831-414c-8917-3c10884c48fe",
   "metadata": {},
   "source": [
    "<div style=\"background-color: #f0f8ff; padding: 20px; border-radius: 10px; border: 1px solid #87cefa; font-family: 'Arial', sans-serif; line-height: 1.6;\">\n",
    "\n",
    "<p style=\"text-align: justify; font-size: 16px; color: #4682b4;\">\n",
    "<b>Q2)</b> La fonction <code style=\"color: #ff4500;\">vis_cut</code> affiche la coupure minimale. Les sommets reliés à la source sont marqués avec le symbole ‘o’ et ceux reliés au puits sont marqués avec ‘+’. Commenter le résultat affiché.\n",
    "</p>\n",
    "\n",
    "</div>"
   ]
  },
  {
   "cell_type": "code",
   "execution_count": null,
   "id": "1feb1f37-7ad8-4799-a6df-8c19bb3d7f3b",
   "metadata": {},
   "outputs": [],
   "source": [
    "% Visualisation\n",
    "% 2) Calcul du débit maximal entre les noeuds source et destination virtuels :\n",
    "% Convertissez le graphe de bande passante en une matrice creuse pour optimiser le traitement\n",
    "Gbw = sparse(bw);\n",
    "% Utilisez la fonction max_flow pour calculer le flux maximal, le cut-set, et les matrices résiduelles\n",
    "[max_val, cut_, R, F] = max_flow(Gbw, n + 1, n + 2);\n",
    "\n",
    "viz_cut(Gbw, cut_, pos, cities, srcs, dsts);\n"
   ]
  },
  {
   "cell_type": "markdown",
   "id": "6b355eaf-cb0b-4ece-9174-a0770b372da2",
   "metadata": {},
   "source": []
  },
  {
   "cell_type": "markdown",
   "id": "dd6c29fd-1db1-47e1-8a83-8088dc4e86c7",
   "metadata": {},
   "source": [
    "<div style=\"background-color: #f0f8ff; padding: 20px; border-radius: 10px; border: 1px solid #87cefa; font-family: 'Arial', sans-serif; line-height: 1.6;\">\n",
    "\n",
    "<p style=\"text-align: justify; font-size: 16px; color: #4682b4;\">\n",
    "<b>Q3)</b> L’opérateur souhaite monter en charge avec un trafic généré de l’ordre de 100 pour chaque site. Quelle est la valeur du flot maximal obtenu pour les capacités considérées. Commenter les résultats affichés.\n",
    "</p>\n",
    "\n",
    "</div>"
   ]
  },
  {
   "cell_type": "code",
   "execution_count": null,
   "id": "bb581a70-5b34-455a-931c-aff8a8488603",
   "metadata": {},
   "outputs": [],
   "source": [
    "%Visualisation"
   ]
  },
  {
   "cell_type": "markdown",
   "id": "a86fadaf-660f-4c39-a1b3-772fc5d4a396",
   "metadata": {},
   "source": []
  },
  {
   "cell_type": "markdown",
   "id": "fb87e5d8-d410-4f54-91f9-18d3a1b60a17",
   "metadata": {},
   "source": [
    "<div style=\"background-color: #f0f8ff; padding: 20px; border-radius: 10px; border: 1px solid #87cefa; font-family: 'Arial', sans-serif; line-height: 1.6;\">\n",
    "\n",
    "<p style=\"text-align: justify; font-size: 16px; color: #4682b4;\">\n",
    "<b>Q4)</b> L’opérateur prévoit un budget pour augmenter les capacités de trois liens afin d’améliorer la valeur du flot. Quels liens proposez-vous en priorité et avec quelles capacités ?\n",
    "</p>\n",
    "\n",
    "</div>"
   ]
  },
  {
   "cell_type": "markdown",
   "id": "c0b2de38-ab79-4f3d-946f-455846399836",
   "metadata": {},
   "source": []
  },
  {
   "cell_type": "markdown",
   "id": "61a573d5-328f-46b6-a727-71b2e23773af",
   "metadata": {},
   "source": [
    "<div style=\"background-color: #f0f8ff; padding: 20px; border-radius: 10px; border: 1px solid #87cefa; font-family: 'Arial', sans-serif; line-height: 1.6;\">\n",
    "\n",
    "<div style=\"text-align: center;\">\n",
    "    <h1><span style=\"color: #30588e;\">Exercice 5</span></h1>\n",
    "</div>\n",
    "\n",
    "<p style=\"text-align: justify; font-size: 16px; color: #4682b4;\">\n",
    "On s’intéresse à la répartition de la taille des composantes connexes d’un graphe.\n",
    "</p>\n",
    "\n",
    "<p style=\"text-align: justify; font-size: 16px; color: #4682b4;\">\n",
    "Le fichier <code style=\"color: #ff4500;\">TP2_exo_2.m</code> utilise la fonction <code style=\"color: #ff4500;\">components(sparse(D))</code> à ce titre.\n",
    "</p>\n",
    "\n",
    "</div>"
   ]
  },
  {
   "cell_type": "markdown",
   "id": "fced615a-b1ba-4866-ba38-d7897373e723",
   "metadata": {},
   "source": [
    "<div style=\"background-color: #f0f8ff; padding: 20px; border-radius: 10px; border: 1px solid #87cefa; font-family: 'Arial', sans-serif; line-height: 1.6;\">\n",
    "\n",
    "<p style=\"text-align: justify; font-size: 16px; color: #4682b4;\">\n",
    "<b>Q1)</b> Déterminer le nombre et l’ordre des composantes connexes dans le graphe des distances entre villes allemandes.\n",
    "</p>\n",
    "\n",
    "</div>"
   ]
  },
  {
   "cell_type": "code",
   "execution_count": null,
   "id": "472b57d6-9a96-45d0-a2a6-7ea867f63d39",
   "metadata": {},
   "outputs": [],
   "source": [
    "% A faire\n",
    "[u v]=components(sparse(D));\n",
    "figure;\n",
    "hist(v,size(D,1));"
   ]
  },
  {
   "cell_type": "markdown",
   "id": "a064f303-6b51-4524-9afa-470e276b2ba3",
   "metadata": {},
   "source": [
    "<div style=\"background-color: #ffe0e0; padding: 20px; border-radius: 10px; border: 1px solid #fa8787; font-family: 'Arial', sans-serif; line-height: 1.6;\">\n",
    "\n",
    "<p style=\"text-align: justify; font-size: 16px; color: #b44242;\">\n",
    "On génère un graphe aléatoirement et on étudie la répartition des composantes en fonction de la probabilité d’existence d’une arête entre deux sommets.\n",
    "</p>\n",
    "\n",
    "</div>"
   ]
  },
  {
   "cell_type": "code",
   "execution_count": null,
   "id": "34ca9eaf-ecf4-4592-bac9-dc0bbefe8491",
   "metadata": {},
   "outputs": [],
   "source": [
    "% Étudier la répartition du nombre de composantes connexes dans un grand graphe aléatoire\n",
    "% en fonction de la densité des liens\n",
    "\n",
    "n = 100; % Nombre de noeuds dans le graphe\n",
    "density = [5, 8, 10, 15, 20, 30]; % Densités en pourcentage\n",
    "\n",
    "% Génération d'une matrice n*n de valeurs uniformément distribuées de 1 à 100\n",
    "S = sparse(randi(100, n));\n",
    "% Conversion en matrice symétrique pour représenter un graphe non orienté\n",
    "S = (S + S') / 2;\n",
    "\n",
    "% Préparation de la figure pour afficher les résultats\n",
    "figure;\n",
    "for i = 1:size(density, 2)\n",
    "    % Création de la matrice d'adjacence pour la densité spécifiée\n",
    "    A = S < density(i); % Les éléments inférieurs à la densité deviennent des arêtes\n",
    "    % Calcul des composantes connexes du graphe\n",
    "    [u, v] = components(sparse(A));\n",
    "    % Affichage d'un histogramme pour chaque densité dans une sous-partie de la figure\n",
    "    subplot(2, 3, i);  % Affichage dans une vignette d'un plot de 6 vignettes\n",
    "    hist(v, size(A, 1)); % Histogramme du nombre de noeuds par composante connexe\n",
    "    title(sprintf('Densité = %d%%', density(i))); % Titre avec la densité actuelle\n",
    "end\n"
   ]
  },
  {
   "cell_type": "markdown",
   "id": "4aed87fd-5972-49df-8f13-937b61068bed",
   "metadata": {},
   "source": [
    "<div style=\"background-color: #f0f8ff; padding: 20px; border-radius: 10px; border: 1px solid #87cefa; font-family: 'Arial', sans-serif; line-height: 1.6;\">\n",
    "\n",
    "<p style=\"text-align: justify; font-size: 16px; color: #4682b4;\">\n",
    "<b>Q2)</b> À partir de quelle probabilité obtient-on un graphe connexe ?\n",
    "</p>\n",
    "\n",
    "</div>"
   ]
  },
  {
   "cell_type": "markdown",
   "id": "6cdc201f-f41f-4101-9450-0843bf2a2299",
   "metadata": {},
   "source": []
  }
 ],
 "metadata": {
  "kernelspec": {
   "display_name": "MATLAB Kernel",
   "language": "matlab",
   "name": "jupyter_matlab_kernel"
  },
  "language_info": {
   "file_extension": ".m",
   "mimetype": "text/x-matlab",
   "name": "matlab"
  }
 },
 "nbformat": 4,
 "nbformat_minor": 5
}
