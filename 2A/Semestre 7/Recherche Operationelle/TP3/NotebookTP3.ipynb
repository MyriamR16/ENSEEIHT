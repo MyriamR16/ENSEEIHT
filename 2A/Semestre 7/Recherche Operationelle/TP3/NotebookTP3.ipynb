{
 "cells": [
  {
   "cell_type": "markdown",
   "metadata": {},
   "source": [
    "# TP 3 : Programmation Dynamique"
   ]
  },
  {
   "cell_type": "markdown",
   "metadata": {},
   "source": [
    "### Initialisation (à faire une seule fois)"
   ]
  },
  {
   "cell_type": "code",
   "execution_count": 10,
   "metadata": {},
   "outputs": [],
   "source": [
    "DISPLAY_TREE = true\n",
    "if DISPLAY_TREE\n",
    "    # Les 2 lignes suivantes à décommenter sur les machines persos\n",
    "    # import Pkg; \n",
    "    # Pkg.add(\"GraphRecipes\"); Pkg.add(\"Plots\"); \n",
    "    using GraphRecipes, Plots #only used to visualize the search tree at the end of the branch-and-bound\n",
    "end"
   ]
  },
  {
   "cell_type": "markdown",
   "metadata": {},
   "source": [
    "### Récupération des données"
   ]
  },
  {
   "cell_type": "code",
   "execution_count": 11,
   "metadata": {},
   "outputs": [
    {
     "data": {
      "text/plain": [
       "readKnaptxtInstance (generic function with 1 method)"
      ]
     },
     "execution_count": 11,
     "metadata": {},
     "output_type": "execute_result"
    }
   ],
   "source": [
    "function readKnaptxtInstance(filename)\n",
    "    price=Int64[]\n",
    "    weight=Int64[]\n",
    "    KnapCap=Int64[]\n",
    "    open(filename) do f\n",
    "        for i in 1:3\n",
    "            tok = split(readline(f))\n",
    "            if(tok[1] == \"ListPrices=\")\n",
    "                for i in 2:(length(tok)-1)\n",
    "                    push!(price,parse(Int64, tok[i]))\n",
    "                end\n",
    "            elseif(tok[1] == \"ListWeights=\")\n",
    "                for i in 2:(length(tok)-1)\n",
    "                    push!(weight,parse(Int64, tok[i]))\n",
    "                end\n",
    "            elseif(tok[1] == \"Capacity=\")\n",
    "                push!(KnapCap, parse(Int64, tok[2]))\n",
    "            else\n",
    "                println(\"Unknown read :\", tok)\n",
    "            end\n",
    "        end\n",
    "    end\n",
    "    capacity=KnapCap[1]\n",
    "    return price, weight, capacity\n",
    "end"
   ]
  },
  {
   "cell_type": "code",
   "execution_count": 37,
   "metadata": {},
   "outputs": [
    {
     "data": {
      "text/plain": [
       "problemeSacADos (generic function with 1 method)"
      ]
     },
     "execution_count": 37,
     "metadata": {},
     "output_type": "execute_result"
    }
   ],
   "source": [
    "function problemeSacADos(couts, poids, objets, Q)\n",
    "    n = length(poids)\n",
    "    C = zeros(Int64, n,Q)\n",
    "    \n",
    "    for j in 1:Q\n",
    "        if j >= poids[1]\n",
    "            C[1,j] = couts[1]\n",
    "        end\n",
    "    \n",
    "        for i in 2:n\n",
    "            var1 = C[i-1,j]\n",
    "            if j > poids[i]\n",
    "                var2 = C[i-1,j-poids[i]] + couts[i]\n",
    "                if var2>= var1\n",
    "                    C[i,j] = var2\n",
    "                else \n",
    "                    C[i,j] = var1\n",
    "                end\n",
    "            else \n",
    "                C[i,j] = var1\n",
    "            end\n",
    "        end\n",
    "    end \n",
    "    return C\n",
    "end"
   ]
  },
  {
   "cell_type": "code",
   "execution_count": 38,
   "metadata": {},
   "outputs": [
    {
     "data": {
      "text/plain": [
       "4×10 Matrix{Int64}:\n",
       " 0  0  0   0   0   0  42  42  42  42\n",
       " 0  0  0   0  40  40  42  42  42  42\n",
       " 0  0  0  12  40  40  42  52  52  54\n",
       " 0  0  0  12  40  40  42  52  52  65"
      ]
     },
     "execution_count": 38,
     "metadata": {},
     "output_type": "execute_result"
    }
   ],
   "source": [
    "objets = [1,2,3,4]\n",
    "couts = [42,40,12,25]\n",
    "poids = [7,4,3,5]\n",
    "Q = 10 \n",
    "C = problemeSacADos(couts,poids,objets,Q)\n",
    "C"
   ]
  },
  {
   "cell_type": "code",
   "execution_count": null,
   "metadata": {},
   "outputs": [],
   "source": []
  },
  {
   "cell_type": "code",
   "execution_count": null,
   "metadata": {},
   "outputs": [],
   "source": []
  }
 ],
 "metadata": {
  "kernelspec": {
   "display_name": "Julia 1.8.2 - N7",
   "language": "julia",
   "name": "julia-1.8-n7"
  },
  "language_info": {
   "file_extension": ".jl",
   "mimetype": "application/julia",
   "name": "julia",
   "version": "1.8.2"
  }
 },
 "nbformat": 4,
 "nbformat_minor": 4
}
